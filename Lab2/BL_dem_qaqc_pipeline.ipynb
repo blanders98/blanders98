{
 "cells": [
  {
   "cell_type": "code",
   "execution_count": 13,
   "metadata": {},
   "outputs": [],
   "source": [
    "import arcpy\n",
    "from arcpy import env, mp\n",
    "from arcpy.sa import *\n",
    "import pandas as pd\n",
    "import requests\n",
    "import os\n",
    "import zipfile\n",
    "import numpy as np\n",
    "\n",
    "dem_url = r'https://resources.gisdata.mn.gov/pub/gdrs/data/pub/us_mn_state_dnr/elev_30m_digital_elevation_model/fgdb_elev_30m_digital_elevation_model.zip'\n",
    "out_dir = r'C:\\Users\\benla\\Desktop\\Grad_School\\Classes\\GIS5572_SpatialDataScience\\Assignments\\Group_Project\\QAQC\\QAQC_arc'\n",
    "  \n",
    "output_crs = arcpy.SpatialReference(26915)\n",
    "output_dem = os.path.join(out_dir, 'reprojected_dem.tif')"
   ]
  },
  {
   "cell_type": "code",
   "execution_count": 5,
   "metadata": {},
   "outputs": [],
   "source": [
    "def download_dem(url, save_path):\n",
    "    response = requests.get(url, stream=True)\n",
    "    if response.status_code == 200:\n",
    "        with open(save_path, 'wb') as file:\n",
    "            for chunk in response.iter_content(chunk_size=1024):\n",
    "                file.write(chunk)\n",
    "        print(f\"Downloaded: {save_path}\")\n",
    "    else:\n",
    "        print(f\"Failed to download: {url}\")\n",
    "    with zipfile.ZipFile(save_path, 'r') as zip_ref:\n",
    "        zip_ref.extractall(os.path.join(out_dir, 'dem'))\n",
    "\n",
    "def crs_qa_step(dem, output_dem):\n",
    "    desc = arcpy.Describe(dem)\n",
    "    current_crs = desc.spatialReference\n",
    "\n",
    "    # Check if the CRS is the desired one\n",
    "    if current_crs.name != output_crs.name:  # Check using the CRS name\n",
    "        print(f\"Reprojecting {dem} from {current_crs.name} to {output_crs.name}\")\n",
    "        # Reproject the raster\n",
    "        arcpy.management.ProjectRaster(dem, output_dem, output_crs)\n",
    "    else:\n",
    "        print(f\"{dem} is already in the desired CRS ({output_crs.name})\")"
   ]
  },
  {
   "cell_type": "code",
   "execution_count": 6,
   "metadata": {},
   "outputs": [
    {
     "name": "stdout",
     "output_type": "stream",
     "text": [
      "Downloaded: C:\\Users\\benla\\Desktop\\Grad_School\\Classes\\GIS5572_SpatialDataScience\\Assignments\\Group_Project\\QAQC\\QAQC_arc\\dem.zip\n"
     ]
    }
   ],
   "source": [
    "# Download the .tif file\n",
    "download_dem(dem_url, os.path.join(out_dir, 'dem.zip'))\n",
    "dem_path = os.path.join(out_dir, r'dem', 'elev_30m_digital_elevation_model.gdb', r'digital_elevation_model_30m')"
   ]
  },
  {
   "cell_type": "code",
   "execution_count": 7,
   "metadata": {},
   "outputs": [
    {
     "name": "stdout",
     "output_type": "stream",
     "text": [
      "C:\\Users\\benla\\Desktop\\Grad_School\\Classes\\GIS5572_SpatialDataScience\\Assignments\\Group_Project\\QAQC\\QAQC_arc\\dem\\elev_30m_digital_elevation_model.gdb\\digital_elevation_model_30m is already in the desired CRS (NAD_1983_UTM_Zone_15N)\n"
     ]
    }
   ],
   "source": [
    "crs_qa_step(dem_path, output_dem)"
   ]
  },
  {
   "cell_type": "code",
   "execution_count": 10,
   "metadata": {},
   "outputs": [
    {
     "name": "stdout",
     "output_type": "stream",
     "text": [
      "Added C:\\Users\\benla\\Desktop\\Grad_School\\Classes\\GIS5572_SpatialDataScience\\Assignments\\Group_Project\\QAQC\\QAQC_arc\\dem\\elev_30m_digital_elevation_model.gdb\\digital_elevation_model_30m to the map as a layer.\n"
     ]
    }
   ],
   "source": [
    "# Access the active project and map\n",
    "aprx = arcpy.mp.ArcGISProject(\"CURRENT\")\n",
    "m = aprx.listMaps()[0]\n",
    "\n",
    "# Add the dem to map\n",
    "dem_layer = m.addDataFromPath(dem_path)\n",
    "print(f\"Added {dem_path} to the map as a layer.\")"
   ]
  },
  {
   "cell_type": "code",
   "execution_count": 11,
   "metadata": {},
   "outputs": [
    {
     "name": "stdout",
     "output_type": "stream",
     "text": [
      "DEM is within the expected Minnesota bounds.\n"
     ]
    }
   ],
   "source": [
    "# QAQC Location\n",
    "\n",
    "# Define Minnesota's geographical extent in NAD83 UTM Zone 15N\n",
    "minnesota_extent = {\n",
    "    \"xmin\": 134000,  # Adjusted to appropriate values for Minnesota\n",
    "    \"ymin\": 4800000,\n",
    "    \"xmax\": 770000,\n",
    "    \"ymax\": 5480000,\n",
    "    \"spatial_ref\": arcpy.SpatialReference(26915)  # NAD83 UTM Zone 15N\n",
    "}\n",
    "\n",
    "# Function to QAQC the DEMs extent\n",
    "def validate_dem(dem, extent):\n",
    "    # Describe the DEM\n",
    "    desc = arcpy.Describe(dem)\n",
    "    dem_extent = desc.extent\n",
    "    dem_crs = desc.spatialReference\n",
    "\n",
    "    # Check extent\n",
    "    within_extent = (\n",
    "        dem_extent.XMin >= extent[\"xmin\"]\n",
    "        and dem_extent.YMin >= extent[\"ymin\"]\n",
    "        and dem_extent.XMax <= extent[\"xmax\"]\n",
    "        and dem_extent.YMax <= extent[\"ymax\"]\n",
    "    )\n",
    "\n",
    "    if within_extent:\n",
    "        print(\"DEM is within the expected Minnesota bounds.\")\n",
    "    else:\n",
    "        print(\"DEM is outside the expected Minnesota bounds!\")\n",
    "        print(f\"Expected bounds: {extent}\")\n",
    "        print(f\"DEM bounds: XMin={dem_extent.XMin}, YMin={dem_extent.YMin}, XMax={dem_extent.XMax}, YMax={dem_extent.YMax}\")\n",
    "\n",
    "# Run the QA/QC\n",
    "validate_dem(dem_path, minnesota_extent)"
   ]
  },
  {
   "cell_type": "code",
   "execution_count": 17,
   "metadata": {},
   "outputs": [
    {
     "name": "stdout",
     "output_type": "stream",
     "text": [
      "Checking the VALUE field for completeness and non-zero entries...\n",
      "All values in the VALUE field are valid and non-zero.\n",
      "Total cells in DEM: 416926873\n",
      "Value field validation complete.\n"
     ]
    }
   ],
   "source": [
    "# QAQC Completeness\n",
    "\n",
    "# Ensure Spatial Analyst extension is enabled\n",
    "arcpy.CheckOutExtension(\"Spatial\")\n",
    "\n",
    "# Function to check for completeness, including the VALUE field check\n",
    "def check_completeness_with_values(dem):\n",
    "    # Create a raster object\n",
    "    raster = arcpy.Raster(dem)\n",
    "    \n",
    "    # Ensure all cells in the VALUE field have non-zero values\n",
    "    print(\"Checking the VALUE field for completeness and non-zero entries...\")\n",
    "    has_zero_values = False\n",
    "    with arcpy.da.SearchCursor(dem, [\"VALUE\", \"COUNT\"]) as cursor:\n",
    "        for row in cursor:\n",
    "            value, count = row[0], row[1]\n",
    "            if value == 0:\n",
    "                print(f\"Warning: Found a 0 value in the VALUE field with {count} cells.\")\n",
    "                has_zero_values = True\n",
    "            elif count is None or count == 0:\n",
    "                print(f\"Warning: VALUE {value} has no associated cells.\")\n",
    "\n",
    "    if not has_zero_values:\n",
    "        print(\"All values in the VALUE field are valid and non-zero.\")\n",
    "    else:\n",
    "        print(\"Some 0 values or incomplete entries were found in the VALUE field.\")\n",
    "\n",
    "    # Calculate the total number of cells in the DEM\n",
    "    total_cells = raster.width * raster.height\n",
    "\n",
    "    # Report results\n",
    "    print(f\"Total cells in DEM: {total_cells}\")\n",
    "    print(f\"Value field validation complete.\")\n",
    "\n",
    "# Run the completeness and value check\n",
    "check_completeness_with_values(dem_path)"
   ]
  },
  {
   "cell_type": "code",
   "execution_count": null,
   "metadata": {},
   "outputs": [],
   "source": []
  }
 ],
 "metadata": {
  "kernelspec": {
   "display_name": "ArcGISPro",
   "language": "python",
   "name": "python3"
  },
  "language_info": {
   "file_extension": ".py",
   "mimetype": "text/x-python",
   "name": "python",
   "version": "3.11.10"
  }
 },
 "nbformat": 4,
 "nbformat_minor": 4
}
