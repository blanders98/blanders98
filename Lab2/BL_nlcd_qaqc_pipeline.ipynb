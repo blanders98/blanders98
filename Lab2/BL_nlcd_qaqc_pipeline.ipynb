{
 "cells": [
  {
   "cell_type": "code",
   "execution_count": 23,
   "metadata": {},
   "outputs": [],
   "source": [
    "import arcpy\n",
    "from arcpy import env, mp\n",
    "import pandas as pd\n",
    "import requests\n",
    "import os\n",
    "import zipfile\n",
    "import numpy as np\n",
    "\n",
    "landcover_url = r'https://resources.gisdata.mn.gov/pub/gdrs/data/pub/us_mn_state_dnr/biota_landcover_nlcd_mn_2019/tif_biota_landcover_nlcd_mn_2019.zip'\n",
    "out_dir = r'C:\\Users\\benla\\Desktop\\Grad_School\\Classes\\GIS5572_SpatialDataScience\\Assignments\\Group_Project\\QAQC\\QAQC_arc'\n",
    "  \n",
    "output_crs = arcpy.SpatialReference(26915)\n",
    "output_landcover = os.path.join(out_dir, 'reprojected_nlcd.tif')"
   ]
  },
  {
   "cell_type": "code",
   "execution_count": 24,
   "metadata": {},
   "outputs": [],
   "source": [
    "def download_landcover(url, save_path):\n",
    "    response = requests.get(url, stream=True)\n",
    "    if response.status_code == 200:\n",
    "        with open(save_path, 'wb') as file:\n",
    "            for chunk in response.iter_content(chunk_size=1024):\n",
    "                file.write(chunk)\n",
    "        print(f\"Downloaded: {save_path}\")\n",
    "    else:\n",
    "        print(f\"Failed to download: {url}\")\n",
    "    with zipfile.ZipFile(save_path, 'r') as zip_ref:\n",
    "        zip_ref.extractall(os.path.join(out_dir, 'landcover'))\n",
    "\n",
    "def crs_qa_step(raster, output_raster):\n",
    "    desc = arcpy.Describe(raster)\n",
    "    current_crs = desc.spatialReference\n",
    "\n",
    "    # If no coordinate system is defined, set it first\n",
    "    if current_crs is None or current_crs.name == \"Unknown\":\n",
    "        print(f\"Defining projection for {raster}\")\n",
    "        arcpy.DefineProjection_management(raster, output_crs)\n",
    "        current_crs = output_crs  # Update current_crs after defining\n",
    "\n",
    "    # Check if reprojection is necessary\n",
    "    if current_crs.factoryCode != output_crs.factoryCode:\n",
    "        print(f\"Reprojecting {raster} from {current_crs.name} to {output_crs.name}\")\n",
    "        arcpy.ProjectRaster_management(raster, output_raster, output_crs)\n",
    "    else:\n",
    "        print(f\"{raster} is already in the desired CRS ({output_crs.name})\")"
   ]
  },
  {
   "cell_type": "code",
   "execution_count": 27,
   "metadata": {},
   "outputs": [
    {
     "name": "stdout",
     "output_type": "stream",
     "text": [
      "Downloaded: C:\\Users\\benla\\Desktop\\Grad_School\\Classes\\GIS5572_SpatialDataScience\\Assignments\\Group_Project\\QAQC\\QAQC_arc\\landcover.zip\n"
     ]
    }
   ],
   "source": [
    "# Download the .tif file\n",
    "download_landcover(landcover_url, os.path.join(out_dir, 'landcover.zip'))\n",
    "landcover_path = os.path.join(out_dir, r'landcover', r'NLCD_2019_Land_Cover.tif')\n",
    "landcover = arcpy.Raster(landcover_path)     "
   ]
  },
  {
   "cell_type": "code",
   "execution_count": 28,
   "metadata": {},
   "outputs": [
    {
     "name": "stdout",
     "output_type": "stream",
     "text": [
      "C:\\Users\\benla\\Desktop\\Grad_School\\Classes\\GIS5572_SpatialDataScience\\Assignments\\Group_Project\\QAQC\\QAQC_arc\\landcover\\NLCD_2019_Land_Cover.tif is already in the desired CRS (NAD_1983_UTM_Zone_15N)\n"
     ]
    }
   ],
   "source": [
    "# Run CRS QA\n",
    "crs_qa_step(landcover_path, output_landcover)"
   ]
  },
  {
   "cell_type": "code",
   "execution_count": 44,
   "metadata": {},
   "outputs": [
    {
     "data": {
      "text/html": [
       "<div class='gpresult'><h2 class='msg-title'>Messages</h2><div id='messages'>Start Time: Friday, March 21, 2025 12:20:44 PM<br>Building Pyramids...<br>Succeeded at Friday, March 21, 2025 12:21:14 PM (Elapsed Time: 29.55 seconds)<br></div><div id = 'default' /></div></div>"
      ],
      "text/plain": [
       "<Result 'C:\\\\Users\\\\benla\\\\Desktop\\\\Grad_School\\\\Classes\\\\GIS5572_SpatialDataScience\\\\Assignments\\\\Group_Project\\\\QAQC\\\\QAQC_arc\\\\nlcd_clipped.tif'>"
      ]
     },
     "execution_count": 44,
     "metadata": {},
     "output_type": "execute_result"
    }
   ],
   "source": [
    "# Define output paths\n",
    "mn_boundary = os.path.join(out_dir, \"mn_boundary.shp\")\n",
    "mn_boundary_projected = os.path.join(out_dir, \"mn_boundary_utm15.shp\")\n",
    "corrected_landcover = os.path.join(out_dir, 'nlcd_mn_utm15.tif')\n",
    "clipped_raster = os.path.join(out_dir, \"nlcd_clipped.tif\")\n",
    "\n",
    "# Reference the \"USA States Generalized\" layer in the active map\n",
    "aprx = arcpy.mp.ArcGISProject(\"CURRENT\")\n",
    "map_doc = aprx.listMaps()[0]  # Assuming it's the first map\n",
    "states_layer = map_doc.listLayers(\"USA States Generalized\")[0]\n",
    "\n",
    "# Extract only Minnesota from the USA States Generalized layer\n",
    "arcpy.analysis.Select(\n",
    "    in_features=states_layer,\n",
    "    out_feature_class=mn_boundary,\n",
    "    where_clause=\"STATE_NAME = 'Minnesota'\"\n",
    ")"
   ]
  },
  {
   "cell_type": "code",
   "execution_count": 50,
   "metadata": {},
   "outputs": [
    {
     "data": {
      "text/html": [
       "<div class='gpresult'><h2 class='msg-title'>Messages</h2><div id='messages'>Start Time: Friday, March 21, 2025 12:26:07 PM<br>Succeeded at Friday, March 21, 2025 12:26:08 PM (Elapsed Time: 0.34 seconds)<br></div><div id = 'default' /></div></div>"
      ],
      "text/plain": [
       "<Result 'C:\\\\Users\\\\benla\\\\Desktop\\\\Grad_School\\\\Classes\\\\GIS5572_SpatialDataScience\\\\Assignments\\\\Group_Project\\\\QAQC\\\\QAQC_arc\\\\mn_boundary_utm15.shp'>"
      ]
     },
     "execution_count": 50,
     "metadata": {},
     "output_type": "execute_result"
    }
   ],
   "source": [
    "# Reproject NLCD land cover data to NAD83 UTM Zone 15N before clipping\n",
    "arcpy.ProjectRaster_management(\n",
    "    in_raster=landcover_path, \n",
    "    out_raster=corrected_landcover, \n",
    "    out_coor_system=arcpy.SpatialReference(26915),  # EPSG: 26915 (NAD83 UTM Zone 15N)\n",
    "    resampling_type=\"NEAREST\"\n",
    ")\n",
    "\n",
    "# Reproject the boundary shapefile to match the raster's CRS (EPSG:26915)\n",
    "arcpy.Project_management(\n",
    "    in_dataset=mn_boundary, \n",
    "    out_dataset=mn_boundary_projected, \n",
    "    out_coor_system=arcpy.SpatialReference(26915)  # EPSG: 26915 (NAD83 UTM Zone 15N)\n",
    ")"
   ]
  },
  {
   "cell_type": "code",
   "execution_count": 51,
   "metadata": {},
   "outputs": [
    {
     "data": {
      "text/html": [
       "<div class='gpresult'><h2 class='msg-title'>Messages</h2><div id='messages'>Start Time: Friday, March 21, 2025 12:26:08 PM<br>Building Pyramids...<br>Succeeded at Friday, March 21, 2025 12:26:37 PM (Elapsed Time: 29.44 seconds)<br></div><div id = 'default' /></div></div>"
      ],
      "text/plain": [
       "<Result 'C:\\\\Users\\\\benla\\\\Desktop\\\\Grad_School\\\\Classes\\\\GIS5572_SpatialDataScience\\\\Assignments\\\\Group_Project\\\\QAQC\\\\QAQC_arc\\\\nlcd_clipped.tif'>"
      ]
     },
     "execution_count": 51,
     "metadata": {},
     "output_type": "execute_result"
    }
   ],
   "source": [
    "# Clip with the reprojected boundary\n",
    "arcpy.Clip_management(\n",
    "    in_raster=corrected_landcover, \n",
    "    out_raster=clipped_raster,\n",
    "    in_template_dataset=mn_boundary_projected,\n",
    "    clipping_geometry=\"ClippingGeometry\",\n",
    "    maintain_clipping_extent=\"NO_MAINTAIN_EXTENT\"\n",
    ")"
   ]
  },
  {
   "cell_type": "code",
   "execution_count": 55,
   "metadata": {},
   "outputs": [],
   "source": [
    "# Function to QAQC the NLCD extent using the Minnesota boundary\n",
    "def validate_nlcd(nlcd_raster, boundary_shapefile):\n",
    "    if not arcpy.Exists(nlcd_raster):\n",
    "        print(f\"Error: Raster {nlcd_raster} does not exist.\")\n",
    "        return\n",
    "    \n",
    "    # Describe the NLCD raster\n",
    "    desc_raster = arcpy.Describe(nlcd_raster)\n",
    "    nlcd_extent = desc_raster.extent\n",
    "    nlcd_crs = desc_raster.spatialReference\n",
    "    \n",
    "    # Describe the boundary\n",
    "    desc_boundary = arcpy.Describe(boundary_shapefile)\n",
    "    boundary_extent = desc_boundary.extent\n",
    "    boundary_crs = desc_boundary.spatialReference\n",
    "    \n",
    "    # Ensure CRS is defined\n",
    "    if nlcd_crs is None or nlcd_crs.name == \"Unknown\":\n",
    "        print(f\"Error: The NLCD raster {nlcd_raster} has an undefined coordinate system.\")\n",
    "        return\n",
    "        \n",
    "    # Check if the raster and boundary are in the same coordinate system\n",
    "    if nlcd_crs.factoryCode != boundary_crs.factoryCode:\n",
    "        print(f\"Warning: Coordinate system mismatch! NLCD is in {nlcd_crs.name} (EPSG:{nlcd_crs.factoryCode}), but boundary is in {boundary_crs.name} (EPSG:{boundary_crs.factoryCode}).\")\n",
    "        print(\"Using the projected boundary for comparison (mn_boundary_projected)...\")\n",
    "        \n",
    "        # Make sure we're using the projected boundary for the comparison\n",
    "        if \"utm\" not in boundary_shapefile.lower() and nlcd_crs.factoryCode == 26915:\n",
    "            print(\"Error: You need to use the projected boundary (mn_boundary_utm15.shp) for this comparison.\")\n",
    "            return\n",
    "    \n",
    "    # Check if the raster extent is within the Minnesota boundary extent\n",
    "    # Add a small buffer to account for precision differences\n",
    "    buffer = 0.001  # Small buffer in coordinate units\n",
    "    within_extent = (\n",
    "        nlcd_extent.XMin >= (boundary_extent.XMin - buffer)\n",
    "        and nlcd_extent.YMin >= (boundary_extent.YMin - buffer)\n",
    "        and nlcd_extent.XMax <= (boundary_extent.XMax + buffer)\n",
    "        and nlcd_extent.YMax <= (boundary_extent.YMax + buffer)\n",
    "    )\n",
    "    \n",
    "    if within_extent:\n",
    "        print(f\"{nlcd_raster} is within the expected Minnesota boundary.\")\n",
    "    else:\n",
    "        print(f\"Warning: {nlcd_raster} might be outside the expected Minnesota boundary!\")\n",
    "        print(f\"Boundary extent: XMin={boundary_extent.XMin}, YMin={boundary_extent.YMin}, XMax={boundary_extent.XMax}, YMax={boundary_extent.YMax}\")\n",
    "        print(f\"NLCD extent: XMin={nlcd_extent.XMin}, YMin={nlcd_extent.YMin}, XMax={nlcd_extent.XMax}, YMax={nlcd_extent.YMax}\")\n",
    "\n",
    "# Function to check NLCD completeness and valid land cover values\n",
    "def check_nlcd_completeness(nlcd_raster):\n",
    "    if not arcpy.Exists(nlcd_raster):\n",
    "        print(f\"Error: Raster {nlcd_raster} does not exist.\")\n",
    "        return\n",
    "\n",
    "    # Create a raster object\n",
    "    raster = arcpy.Raster(nlcd_raster)\n",
    "\n",
    "    # Check if the raster has a VAT (Value Attribute Table)\n",
    "    has_attribute_table = arcpy.management.BuildRasterAttributeTable(nlcd_raster, \"Overwrite\")[0]\n",
    "    \n",
    "    if has_attribute_table:\n",
    "        print(\"NLCD raster has a valid attribute table.\")\n",
    "\n",
    "        # Check for missing or unexpected land cover values\n",
    "        print(\"Checking land cover values in NLCD dataset...\")\n",
    "        valid_landcover_codes = {11, 12, 21, 22, 23, 24, 31, 41, 42, 43, 52, 71, 81, 82, 90, 95}  # Standard NLCD codes\n",
    "        \n",
    "        with arcpy.da.SearchCursor(nlcd_raster, [\"VALUE\", \"COUNT\"]) as cursor:\n",
    "            for row in cursor:\n",
    "                landcover_class, count = row[0], row[1]\n",
    "                if landcover_class not in valid_landcover_codes:\n",
    "                    print(f\"Warning: Unexpected land cover class {landcover_class} found with {count} cells.\")\n",
    "\n",
    "        print(\"Land cover validation complete.\")\n",
    "    else:\n",
    "        print(\"No attribute table found. Cannot check land cover values.\")\n",
    "\n",
    "    # Calculate the total number of classified cells in the NLCD raster\n",
    "    total_cells = raster.width * raster.height\n",
    "    print(f\"Total classified cells in NLCD: {total_cells}\")\n"
   ]
  },
  {
   "cell_type": "code",
   "execution_count": 56,
   "metadata": {
    "scrolled": true
   },
   "outputs": [
    {
     "name": "stdout",
     "output_type": "stream",
     "text": [
      "Warning: C:\\Users\\benla\\Desktop\\Grad_School\\Classes\\GIS5572_SpatialDataScience\\Assignments\\Group_Project\\QAQC\\QAQC_arc\\nlcd_clipped.tif might be outside the expected Minnesota boundary!\n",
      "Boundary extent: XMin=190687.90811424778, YMin=4816425.970984291, XMax=758772.0579467257, YMax=5471006.466779861\n",
      "NLCD extent: XMin=190670.0, YMin=4816420.0, XMax=758780.0, YMax=5471020.0\n",
      "NLCD raster has a valid attribute table.\n",
      "Checking land cover values in NLCD dataset...\n",
      "Warning: Unexpected land cover class 0 found with 198060.0 cells.\n",
      "Land cover validation complete.\n",
      "Total classified cells in NLCD: 413205340\n"
     ]
    }
   ],
   "source": [
    "# Run QAQC validation on the final clipped raster\n",
    "validate_nlcd(clipped_raster, mn_boundary_projected)\n",
    "check_nlcd_completeness(clipped_raster)"
   ]
  },
  {
   "cell_type": "code",
   "execution_count": null,
   "metadata": {},
   "outputs": [],
   "source": []
  }
 ],
 "metadata": {
  "kernelspec": {
   "display_name": "ArcGISPro",
   "language": "python",
   "name": "python3"
  },
  "language_info": {
   "file_extension": ".py",
   "mimetype": "text/x-python",
   "name": "python",
   "version": "3.11.10"
  }
 },
 "nbformat": 4,
 "nbformat_minor": 4
}
